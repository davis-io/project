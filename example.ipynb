{
 "cells": [
  {
   "cell_type": "code",
   "execution_count": null,
   "metadata": {},
   "outputs": [],
   "source": [
    "import plotly.plotly as py\n",
    "import plotly.figure_factory as ff\n",
    "\n",
    "import numpy as np\n",
    "import pandas as pd\n",
    "\n",
    "import bokeh\n",
    "from bokeh.io import show\n",
    "from bokeh.models import LogColorMapper, CustomJS, Toggle, ColumnDataSource, CDSView, GroupFilter\n",
    "from bokeh.palettes import Viridis6 as palette\n",
    "from bokeh.plotting import figure\n",
    "from bokeh.layouts import column, row, widgetbox \n",
    "\n",
    "from bokeh.models.widgets import Slider\n",
    "from bokeh.layouts import Column\n",
    "\n",
    "from bokeh.sampledata.us_counties import data as counties"
   ]
  },
  {
   "cell_type": "code",
   "execution_count": null,
   "metadata": {},
   "outputs": [],
   "source": [
    "df = pd.read_csv(\"clean.csv\")"
   ]
  },
  {
   "cell_type": "code",
   "execution_count": null,
   "metadata": {},
   "outputs": [],
   "source": [
    "def county_name_format(name):\n",
    "    final_name = \"\"\n",
    "    try:\n",
    "        if type(name) != 'float':\n",
    "            words = name.split(\" \")\n",
    "            if words[-1] == 'COUNTY':\n",
    "                words.pop()\n",
    "            for i in range(0, len(words)):\n",
    "                final_name += words[i].capitalize() + \" \"\n",
    "            final_name = final_name.rstrip()\n",
    "        else:\n",
    "            final_name = np.nan\n",
    "    except:\n",
    "        pass\n",
    "    return(final_name)"
   ]
  },
  {
   "cell_type": "code",
   "execution_count": null,
   "metadata": {},
   "outputs": [],
   "source": [
    "counties_ca = {\n",
    "    code: county for code, county in counties.items() if (county[\"state\"] == \"ca\")\n",
    "}"
   ]
  },
  {
   "cell_type": "code",
   "execution_count": null,
   "metadata": {},
   "outputs": [],
   "source": [
    "counties_ca"
   ]
  },
  {
   "cell_type": "code",
   "execution_count": null,
   "metadata": {},
   "outputs": [],
   "source": [
    "county_xs = [county[\"lons\"] for county in counties_ca.values()]\n",
    "county_ys = [county[\"lats\"] for county in counties_ca.values()]\n",
    "county_names = [county['name'] for county in counties_ca.values()]"
   ]
  },
  {
   "cell_type": "code",
   "execution_count": null,
   "metadata": {},
   "outputs": [],
   "source": [
    "def replace_nan(county_info):\n",
    "    for l in county_info:\n",
    "        for idx, item in enumerate(l):\n",
    "            if np.isnan(item):\n",
    "                l[idx] = np.nanmean(l)\n",
    "    return(county_info)"
   ]
  },
  {
   "cell_type": "code",
   "execution_count": null,
   "metadata": {},
   "outputs": [],
   "source": [
    "b = [[1,2,np.nan], [3,2,1], [np.nan, 1, 5]]"
   ]
  },
  {
   "cell_type": "code",
   "execution_count": null,
   "metadata": {},
   "outputs": [],
   "source": [
    "replace_nan([[1,2,np.nan], [3,2,1], [np.nan, 1, 5]])"
   ]
  },
  {
   "cell_type": "code",
   "execution_count": null,
   "metadata": {},
   "outputs": [],
   "source": [
    "county_xs = replace_nan(county_xs)\n",
    "county_ys = replace_nan(county_ys)"
   ]
  },
  {
   "cell_type": "code",
   "execution_count": null,
   "metadata": {},
   "outputs": [],
   "source": [
    "len(county_names)"
   ]
  },
  {
   "cell_type": "code",
   "execution_count": null,
   "metadata": {},
   "outputs": [],
   "source": [
    "df['recipient_location_county_name'] = df['recipient_location_county_name'].apply(lambda name: county_name_format(name))"
   ]
  },
  {
   "cell_type": "code",
   "execution_count": null,
   "metadata": {},
   "outputs": [],
   "source": [
    "sum_obligation = df.groupby(['fiscal_year','recipient_location_county_name'])['total_obligation'].median().reset_index()"
   ]
  },
  {
   "cell_type": "code",
   "execution_count": null,
   "metadata": {},
   "outputs": [],
   "source": [
    "sum_obligation = sum_obligation[sum_obligation['recipient_location_county_name']!= '']"
   ]
  },
  {
   "cell_type": "code",
   "execution_count": null,
   "metadata": {},
   "outputs": [],
   "source": [
    "years = sum_obligation['fiscal_year'].unique()"
   ]
  },
  {
   "cell_type": "code",
   "execution_count": null,
   "metadata": {},
   "outputs": [],
   "source": [
    "for year in years:\n",
    "    sub = sum_obligation[sum_obligation['fiscal_year']==year]\n",
    "    temp = pd.DataFrame(columns=['fiscal_year', 'recipient_location_county_name', 'total_obligation'])\n",
    "    for county in county_names:\n",
    "        if county not in sub['recipient_location_county_name'].unique():\n",
    "            temp = temp.append({'fiscal_year': year, 'recipient_location_county_name': county, 'total_obligation': 0}, ignore_index=True)\n",
    "    for county in sub['recipient_location_county_name'].unique():\n",
    "        if county not in county_names:\n",
    "            sum_obligation = sum_obligation[sum_obligation['recipient_location_county_name']!= county]\n",
    "    sum_obligation = sum_obligation.append(temp)\n",
    "    "
   ]
  },
  {
   "cell_type": "code",
   "execution_count": null,
   "metadata": {},
   "outputs": [],
   "source": [
    "sum_obligation = sum_obligation.sort_values(by=['fiscal_year', 'recipient_location_county_name']).reset_index()"
   ]
  },
  {
   "cell_type": "code",
   "execution_count": null,
   "metadata": {},
   "outputs": [],
   "source": [
    "sum_obligation"
   ]
  },
  {
   "cell_type": "code",
   "execution_count": null,
   "metadata": {},
   "outputs": [],
   "source": [
    "for year in years:\n",
    "    sub = sum_obligation[sum_obligation['fiscal_year']==year]\n",
    "    print(sub.shape)"
   ]
  },
  {
   "cell_type": "code",
   "execution_count": null,
   "metadata": {},
   "outputs": [],
   "source": [
    "# data=dict(\n",
    "#     x=county_xs,\n",
    "#     y=county_ys,\n",
    "#     name=county_names,\n",
    "#     rate=sample['total_obligation'],\n",
    "# )"
   ]
  },
  {
   "cell_type": "code",
   "execution_count": null,
   "metadata": {},
   "outputs": [],
   "source": [
    "years = sum_obligation['fiscal_year'].unique()\n",
    "data_list = []\n",
    "for year in years:\n",
    "    data = dict(\n",
    "        x=county_xs,\n",
    "        y=county_ys,\n",
    "        name=county_names,\n",
    "        year=str(year),\n",
    "        rate=sum_obligation[sum_obligation['fiscal_year']==year]['total_obligation']\n",
    "    )\n",
    "    data_list.append(data)\n",
    "plot_df = pd.DataFrame(data_list[0])\n",
    "for i in range(1, len(data_list)):\n",
    "    try:\n",
    "        temp = pd.DataFrame(data_list[i])\n",
    "        plot_df = plot_df.append(temp)\n",
    "    except:\n",
    "        print(i)"
   ]
  },
  {
   "cell_type": "code",
   "execution_count": null,
   "metadata": {},
   "outputs": [],
   "source": [
    "plot_df"
   ]
  },
  {
   "cell_type": "code",
   "execution_count": null,
   "metadata": {},
   "outputs": [],
   "source": [
    "data = ColumnDataSource(plot_df)\n",
    "view = CDSView(source = data, filters = [GroupFilter(column_name = \"year\", group = \"2001\")])"
   ]
  },
  {
   "cell_type": "code",
   "execution_count": null,
   "metadata": {},
   "outputs": [],
   "source": [
    "callback = CustomJS(args = {\"source\": data, \"view\": view}, code = \"\"\"\n",
    "    console.log(\"Hey dummy\")\n",
    "    view.filters[0].group = cb_obj.value.toString();\n",
    "    source.change.emit();\n",
    "\"\"\")\n",
    "\n",
    "slider = Slider(start=2001, end=2019, value=2001, title=\"Year\")\n",
    "\n",
    "slider.js_on_change(\"value\", callback)"
   ]
  },
  {
   "cell_type": "code",
   "execution_count": null,
   "metadata": {},
   "outputs": [],
   "source": [
    "# # add slider with callback to update data source\n",
    "# slider = Slider(start=2001, end=2019, value=2001, step=1, title=\"Year\")"
   ]
  },
  {
   "cell_type": "code",
   "execution_count": null,
   "metadata": {},
   "outputs": [],
   "source": [
    "TOOLS = \"pan,wheel_zoom,reset,hover,save\"\n",
    "\n",
    "p = figure(\n",
    "    title=\"CA spending\", tools=TOOLS,\n",
    "    x_axis_location=None, y_axis_location=None,\n",
    "    tooltips=[\n",
    "        (\"Name\", \"@name\"), (\"Spending)\", \"@rate\"), (\"(Long, Lat)\", \"($x, $y)\")\n",
    "    ])\n",
    "p.grid.grid_line_color = None\n",
    "p.hover.point_policy = \"follow_mouse\"\n",
    "\n",
    "p.patches('x', 'y', source=data, view = view,\n",
    "          fill_color={'field': 'rate', 'transform': LogColorMapper(palette=palette)},\n",
    "          fill_alpha=0.7, line_color=\"black\", line_width=0.5)\n",
    "\n",
    "layout = Column(slider, p)\n",
    "show(layout)"
   ]
  },
  {
   "cell_type": "code",
   "execution_count": null,
   "metadata": {},
   "outputs": [],
   "source": [
    "exp = plot_df.copy()"
   ]
  },
  {
   "cell_type": "code",
   "execution_count": null,
   "metadata": {},
   "outputs": [],
   "source": [
    "len(exp['rate'])"
   ]
  },
  {
   "cell_type": "code",
   "execution_count": null,
   "metadata": {},
   "outputs": [],
   "source": [
    "import random\n",
    "exp['rate'] = random.sample(range(20, 4000), 1102)"
   ]
  },
  {
   "cell_type": "code",
   "execution_count": null,
   "metadata": {},
   "outputs": [],
   "source": [
    "data = ColumnDataSource(exp)\n",
    "view = CDSView(source = data, filters = [GroupFilter(column_name = \"year\", group = \"2001\")])"
   ]
  },
  {
   "cell_type": "code",
   "execution_count": null,
   "metadata": {},
   "outputs": [],
   "source": [
    "np.nanmean([1,2,np.nan])"
   ]
  },
  {
   "cell_type": "code",
   "execution_count": null,
   "metadata": {},
   "outputs": [],
   "source": []
  }
 ],
 "metadata": {
  "kernelspec": {
   "display_name": "Python 3",
   "language": "python",
   "name": "python3"
  },
  "language_info": {
   "codemirror_mode": {
    "name": "ipython",
    "version": 3
   },
   "file_extension": ".py",
   "mimetype": "text/x-python",
   "name": "python",
   "nbconvert_exporter": "python",
   "pygments_lexer": "ipython3",
   "version": "3.7.2"
  }
 },
 "nbformat": 4,
 "nbformat_minor": 2
}
