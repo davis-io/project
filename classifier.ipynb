{
 "cells": [
  {
   "cell_type": "code",
   "execution_count": 1,
   "metadata": {},
   "outputs": [],
   "source": [
    "import pandas as pd\n",
    "import string\n",
    "import re\n",
    "import nltk\n",
    "from nltk.corpus import stopwords\n",
    "import random\n",
    "import numpy as np\n",
    "import seaborn as sns\n",
    "import matplotlib.pyplot as plt"
   ]
  },
  {
   "cell_type": "code",
   "execution_count": 2,
   "metadata": {},
   "outputs": [
    {
     "name": "stdout",
     "output_type": "stream",
     "text": [
      "(207892, 4)\n"
     ]
    },
    {
     "data": {
      "text/html": [
       "<div>\n",
       "<style scoped>\n",
       "    .dataframe tbody tr th:only-of-type {\n",
       "        vertical-align: middle;\n",
       "    }\n",
       "\n",
       "    .dataframe tbody tr th {\n",
       "        vertical-align: top;\n",
       "    }\n",
       "\n",
       "    .dataframe thead th {\n",
       "        text-align: right;\n",
       "    }\n",
       "</style>\n",
       "<table border=\"1\" class=\"dataframe\">\n",
       "  <thead>\n",
       "    <tr style=\"text-align: right;\">\n",
       "      <th></th>\n",
       "      <th>total_obligation</th>\n",
       "      <th>transaction_description</th>\n",
       "      <th>business_categories</th>\n",
       "      <th>recipient_location_county_code</th>\n",
       "    </tr>\n",
       "  </thead>\n",
       "  <tbody>\n",
       "    <tr>\n",
       "      <th>258358</th>\n",
       "      <td>1.558053e+09</td>\n",
       "      <td>MEDICARE: HOSPITAL INSURANCE</td>\n",
       "      <td>NaN</td>\n",
       "      <td>37</td>\n",
       "    </tr>\n",
       "    <tr>\n",
       "      <th>258359</th>\n",
       "      <td>1.576352e+07</td>\n",
       "      <td>MEDICARE: SUPPLEMENTARY MEDICAL INSURANCE</td>\n",
       "      <td>NaN</td>\n",
       "      <td>67</td>\n",
       "    </tr>\n",
       "    <tr>\n",
       "      <th>258361</th>\n",
       "      <td>2.803770e+06</td>\n",
       "      <td>MEDICARE: SUPPLEMENTARY MEDICAL INSURANCE</td>\n",
       "      <td>NaN</td>\n",
       "      <td>73</td>\n",
       "    </tr>\n",
       "    <tr>\n",
       "      <th>258362</th>\n",
       "      <td>-2.928280e+05</td>\n",
       "      <td>MEDICARE: SUPPLEMENTARY MEDICAL INSURANCE</td>\n",
       "      <td>other_than_small_business category_business</td>\n",
       "      <td>111</td>\n",
       "    </tr>\n",
       "    <tr>\n",
       "      <th>258363</th>\n",
       "      <td>1.283526e+07</td>\n",
       "      <td>MEDICARE: SUPPLEMENTARY MEDICAL INSURANCE</td>\n",
       "      <td>NaN</td>\n",
       "      <td>1</td>\n",
       "    </tr>\n",
       "  </tbody>\n",
       "</table>\n",
       "</div>"
      ],
      "text/plain": [
       "        total_obligation                    transaction_description  \\\n",
       "258358      1.558053e+09               MEDICARE: HOSPITAL INSURANCE   \n",
       "258359      1.576352e+07  MEDICARE: SUPPLEMENTARY MEDICAL INSURANCE   \n",
       "258361      2.803770e+06  MEDICARE: SUPPLEMENTARY MEDICAL INSURANCE   \n",
       "258362     -2.928280e+05  MEDICARE: SUPPLEMENTARY MEDICAL INSURANCE   \n",
       "258363      1.283526e+07  MEDICARE: SUPPLEMENTARY MEDICAL INSURANCE   \n",
       "\n",
       "                                business_categories  \\\n",
       "258358                                          NaN   \n",
       "258359                                          NaN   \n",
       "258361                                          NaN   \n",
       "258362  other_than_small_business category_business   \n",
       "258363                                          NaN   \n",
       "\n",
       "        recipient_location_county_code  \n",
       "258358                              37  \n",
       "258359                              67  \n",
       "258361                              73  \n",
       "258362                             111  \n",
       "258363                               1  "
      ]
     },
     "execution_count": 2,
     "metadata": {},
     "output_type": "execute_result"
    }
   ],
   "source": [
    "DATAFILE_model = '/Users/rodrigo/Documents/Big-Data/final-project/hhs_ca/ML/df_model.csv'\n",
    "\n",
    "df = pd.read_csv(DATAFILE_model, low_memory = False)\n",
    "df = df[['total_obligation', 'transaction_description', 'business_categories', 'recipient_location_county_code']]\n",
    "df = df[pd.notnull(df['transaction_description'])]\n",
    "print(df.shape)\n",
    "df.tail()"
   ]
  },
  {
   "cell_type": "markdown",
   "metadata": {},
   "source": [
    "### variation: delete some classes"
   ]
  },
  {
   "cell_type": "code",
   "execution_count": 34,
   "metadata": {},
   "outputs": [
    {
     "data": {
      "text/plain": [
       "(207883, 4)"
      ]
     },
     "execution_count": 34,
     "metadata": {},
     "output_type": "execute_result"
    }
   ],
   "source": [
    "\n",
    "df = df[df.recipient_location_county_code != 51]\n",
    "df = df[df.recipient_location_county_code != 3]\n",
    "df = df[df.recipient_location_county_code != 43]\n",
    "#& df.recipient_location_county_code != 53 & df.recipient_location_county_code != 43]\n",
    "df.shape"
   ]
  },
  {
   "cell_type": "code",
   "execution_count": 3,
   "metadata": {},
   "outputs": [
    {
     "name": "stdout",
     "output_type": "stream",
     "text": [
      "(1552, 62)\n"
     ]
    },
    {
     "data": {
      "text/html": [
       "<div>\n",
       "<style scoped>\n",
       "    .dataframe tbody tr th:only-of-type {\n",
       "        vertical-align: middle;\n",
       "    }\n",
       "\n",
       "    .dataframe tbody tr th {\n",
       "        vertical-align: top;\n",
       "    }\n",
       "\n",
       "    .dataframe thead th {\n",
       "        text-align: right;\n",
       "    }\n",
       "</style>\n",
       "<table border=\"1\" class=\"dataframe\">\n",
       "  <thead>\n",
       "    <tr style=\"text-align: right;\">\n",
       "      <th></th>\n",
       "      <th>total_obligation</th>\n",
       "      <th>transaction_description</th>\n",
       "      <th>business_categories</th>\n",
       "      <th>recipient_location_county_code</th>\n",
       "    </tr>\n",
       "  </thead>\n",
       "  <tbody>\n",
       "    <tr>\n",
       "      <th>1547</th>\n",
       "      <td>20730.69</td>\n",
       "      <td>IGF::CT::IGF OT LODGING AND MEETING ROOM PACKA...</td>\n",
       "      <td>other_than_small_business partnership_or_limit...</td>\n",
       "      <td>NaN</td>\n",
       "    </tr>\n",
       "    <tr>\n",
       "      <th>1548</th>\n",
       "      <td>21501.39</td>\n",
       "      <td>IGF::CT::IGF OT LODGING AND MEETING ROOM PACKA...</td>\n",
       "      <td>other_than_small_business partnership_or_limit...</td>\n",
       "      <td>NaN</td>\n",
       "    </tr>\n",
       "    <tr>\n",
       "      <th>1549</th>\n",
       "      <td>18007.58</td>\n",
       "      <td>IGF::CT::IGF OT LODGING AND MEETING ROOM PACKA...</td>\n",
       "      <td>other_than_small_business partnership_or_limit...</td>\n",
       "      <td>NaN</td>\n",
       "    </tr>\n",
       "    <tr>\n",
       "      <th>1550</th>\n",
       "      <td>21904.88</td>\n",
       "      <td>IGF::CT::IGF OT LODGING AND MEETING ROOM PACKA...</td>\n",
       "      <td>other_than_small_business partnership_or_limit...</td>\n",
       "      <td>NaN</td>\n",
       "    </tr>\n",
       "    <tr>\n",
       "      <th>1551</th>\n",
       "      <td>18007.58</td>\n",
       "      <td>IGF::CT::IGF OT LODGING AND MEETING ROOM PACKA...</td>\n",
       "      <td>other_than_small_business partnership_or_limit...</td>\n",
       "      <td>NaN</td>\n",
       "    </tr>\n",
       "  </tbody>\n",
       "</table>\n",
       "</div>"
      ],
      "text/plain": [
       "      total_obligation                            transaction_description  \\\n",
       "1547          20730.69  IGF::CT::IGF OT LODGING AND MEETING ROOM PACKA...   \n",
       "1548          21501.39  IGF::CT::IGF OT LODGING AND MEETING ROOM PACKA...   \n",
       "1549          18007.58  IGF::CT::IGF OT LODGING AND MEETING ROOM PACKA...   \n",
       "1550          21904.88  IGF::CT::IGF OT LODGING AND MEETING ROOM PACKA...   \n",
       "1551          18007.58  IGF::CT::IGF OT LODGING AND MEETING ROOM PACKA...   \n",
       "\n",
       "                                    business_categories  \\\n",
       "1547  other_than_small_business partnership_or_limit...   \n",
       "1548  other_than_small_business partnership_or_limit...   \n",
       "1549  other_than_small_business partnership_or_limit...   \n",
       "1550  other_than_small_business partnership_or_limit...   \n",
       "1551  other_than_small_business partnership_or_limit...   \n",
       "\n",
       "      recipient_location_county_code  \n",
       "1547                             NaN  \n",
       "1548                             NaN  \n",
       "1549                             NaN  \n",
       "1550                             NaN  \n",
       "1551                             NaN  "
      ]
     },
     "execution_count": 3,
     "metadata": {},
     "output_type": "execute_result"
    }
   ],
   "source": [
    "DATAFILE_na = '/Users/rodrigo/Documents/Big-Data/final-project/hhs_ca/ML/df_NA_2015.csv'\n",
    "df_na = pd.read_csv(DATAFILE_na, low_memory = False)\n",
    "print(df_na.shape)\n",
    "df_na = df_na[['total_obligation', 'transaction_description', 'business_categories', 'recipient_location_county_code']]\n",
    "df_na = df_na[pd.notnull(df_na['transaction_description'])]\n",
    "df_na.tail()"
   ]
  },
  {
   "cell_type": "code",
   "execution_count": 100,
   "metadata": {},
   "outputs": [],
   "source": [
    "counties_names = {'Alameda ' : 1 , 'Alpine ' : 3 , 'Amador' : 5, 'Butte' : 7 , 'Calaveras' : 9 , 'Colusa' : 11  , 'Contra Costa' : 13 , \n",
    "'Del Norte' : 15 , 'El Dorado' : 17 , 'Fresno' : 19 , 'Glenn' : 21, 'Humboldt' : 23 , 'Imperial' : 25 ,'Inyo' : 27 , \n",
    " 'Kern' : 29 , 'Kings' : 31, 'Lake' : 33 , 'Lassen' : 35 , 'Los Angeles' : 37 , 'Madera' : 39 , 'Marin' : 41 , \n",
    " 'Mariposa' : 43 , 'Mendocino' : 45 , 'Merced'  : 47 , 'Modoc' : 49 , 'Mono' : 51 ,  'Monterey' : 53 , 'Napa' : 55 , \n",
    " 'Nevada' : 57 , 'Orange' : 59 , 'Placer' : 61 , 'Plumas' : 63 , 'Riverside' : 65 , 'Sacramento' : 67 , 'San Benito' : 69 ,\n",
    " 'San Bernardino' : 71 , 'San Diego' : 73 , 'San Francisco' : 75, 'San Joaquin ' : 77 , 'San Luis Obispo ' : 79 , \n",
    " 'San Mate' : 81 , 'Santa Barbara' : 83, 'Santa Clara' : 85 , 'Santa Cruz' : 87 , 'Shasta' : 89  , 'Sierra' : 91  , \n",
    " 'Siskiyou' : 93 , 'Solano' : 95  , 'Sonoma' : 97  , 'Stanislaus' : 99 , 'Sutter' : 101 , 'Tehama' : 103 , \n",
    " 'Trinity' : 105 , 'Tulare' : 107 , 'Tuolumne' : 109 , 'Ventura ' : 111 , 'Yolo' : 113 , 'Yuba' : 115 }"
   ]
  },
  {
   "cell_type": "markdown",
   "metadata": {},
   "source": [
    "# preprocessing  (transaction_description)\n"
   ]
  },
  {
   "cell_type": "code",
   "execution_count": 39,
   "metadata": {},
   "outputs": [],
   "source": [
    "\n",
    "tr_descriptions = df['transaction_description']\n",
    "\n",
    "snowball = nltk.stem.SnowballStemmer('english')\n",
    "\n",
    "temp = []\n",
    "\n",
    "for transaction in tr_descriptions:\n",
    "    transaction = transaction.lower()                                            # changing to lower case\n",
    "    transaction = \"\".join(l for l in transaction if l not in string.punctuation) # removing puntuation\n",
    "    transaction = ''.join([l for l in transaction if not l.isdigit()])           # removing numbers\n",
    "    words = [snowball.stem(word) for word in transaction.split()                 # stemming the words\n",
    "             if word not in stopwords.words('english')]                          # remvoving stopwords\n",
    "    temp.append(words)\n",
    "\n",
    "# flatten the list\n",
    "sent = []\n",
    "for row in temp:\n",
    "    sequ = ''\n",
    "    for word in row:\n",
    "        sequ = sequ + ' ' + word\n",
    "    sent.append(sequ)\n",
    "    \n",
    "tr_descriptions = sent"
   ]
  },
  {
   "cell_type": "markdown",
   "metadata": {},
   "source": [
    "### change descriptions to numeric vectors"
   ]
  },
  {
   "cell_type": "code",
   "execution_count": null,
   "metadata": {},
   "outputs": [],
   "source": [
    "county_codes = df.recipient_location_county_code\n",
    "\n",
    "count_vect = CountVectorizer() #ngram or not? ngram_range = (1,2)\n",
    "BoW = count_vect.fit_transform(tr_descriptions)\n",
    "\n",
    "tfidf_transformer = TfidfTransformer()\n",
    "tfidf = tfidf_transformer.fit_transform(BoW)\n",
    "\n",
    "tfidf"
   ]
  },
  {
   "cell_type": "code",
   "execution_count": 42,
   "metadata": {},
   "outputs": [
    {
     "data": {
      "text/plain": [
       "<207883x31906 sparse matrix of type '<class 'numpy.float64'>'\n",
       "\twith 1203525 stored elements in Compressed Sparse Row format>"
      ]
     },
     "execution_count": 42,
     "metadata": {},
     "output_type": "execute_result"
    }
   ],
   "source": []
  },
  {
   "cell_type": "markdown",
   "metadata": {},
   "source": [
    "# targetting class imbalance"
   ]
  },
  {
   "cell_type": "code",
   "execution_count": 102,
   "metadata": {},
   "outputs": [
    {
     "name": "stdout",
     "output_type": "stream",
     "text": [
      "[(51, 1), (3, 3), (43, 5), (91, 32), (5, 52), (105, 55), (9, 62), (69, 63), (115, 71), (109, 112), (49, 113), (101, 115), (63, 120), (103, 121), (11, 137), (55, 138), (31, 163), (57, 232), (99, 259), (25, 266), (95, 271), (53, 272), (21, 279), (17, 290), (77, 292), (35, 335), (39, 339), (79, 378), (47, 387), (15, 421), (29, 421), (33, 421), (107, 481), (61, 519), (27, 521), (7, 566), (93, 747), (111, 910), (19, 915), (89, 928), (97, 1122), (23, 1166), (41, 1189), (45, 1446), (87, 1491), (83, 1757), (71, 2160), (65, 2486), (13, 2855), (81, 5275), (67, 6821), (113, 8246), (59, 10883), (1, 15410), (85, 20943), (75, 25681), (73, 42330), (37, 44818)]\n"
     ]
    }
   ],
   "source": [
    "unique, counts = np.unique(county_codes, return_counts=True)\n",
    "print(sorted(dict(zip(unique, counts)).items(), key=lambda kv: kv[1]))\n",
    "\n",
    "\n"
   ]
  },
  {
   "cell_type": "markdown",
   "metadata": {},
   "source": [
    "#### Three states with very few observations\n",
    "- Mono (51): 1\n",
    "- Alpine (3): 3\n",
    "- Mariposa (43): 5"
   ]
  },
  {
   "cell_type": "markdown",
   "metadata": {},
   "source": [
    "# implementation of the ML model"
   ]
  },
  {
   "cell_type": "code",
   "execution_count": 21,
   "metadata": {},
   "outputs": [],
   "source": [
    "# dont't know what this does exactly\n",
    "from sklearn.feature_extraction.text import TfidfVectorizer\n",
    "\n",
    "from sklearn.feature_extraction.text import TfidfTransformer\n",
    "from sklearn.feature_extraction.text import CountVectorizer\n",
    "\n",
    "from sklearn.model_selection import train_test_split, cross_val_score, KFold\n",
    "\n",
    "#models\n",
    "from sklearn.naive_bayes import MultinomialNB\n",
    "from sklearn.linear_model import LogisticRegression\n",
    "from sklearn.svm import LinearSVC\n",
    "from sklearn.ensemble import RandomForestClassifier\n",
    "\n",
    "from sklearn import metrics\n",
    "from sklearn.metrics import confusion_matrix, classification_report"
   ]
  },
  {
   "cell_type": "markdown",
   "metadata": {},
   "source": [
    "## using cross validation score"
   ]
  },
  {
   "cell_type": "code",
   "execution_count": 27,
   "metadata": {},
   "outputs": [
    {
     "name": "stderr",
     "output_type": "stream",
     "text": [
      "/anaconda3/lib/python3.7/site-packages/sklearn/svm/base.py:922: ConvergenceWarning: Liblinear failed to converge, increase the number of iterations.\n",
      "  \"the number of iterations.\", ConvergenceWarning)\n",
      "/anaconda3/lib/python3.7/site-packages/sklearn/svm/base.py:922: ConvergenceWarning: Liblinear failed to converge, increase the number of iterations.\n",
      "  \"the number of iterations.\", ConvergenceWarning)\n",
      "/anaconda3/lib/python3.7/site-packages/sklearn/svm/base.py:922: ConvergenceWarning: Liblinear failed to converge, increase the number of iterations.\n",
      "  \"the number of iterations.\", ConvergenceWarning)\n",
      "/anaconda3/lib/python3.7/site-packages/sklearn/ensemble/forest.py:246: FutureWarning: The default value of n_estimators will change from 10 in version 0.20 to 100 in 0.22.\n",
      "  \"10 in version 0.20 to 100 in 0.22.\", FutureWarning)\n",
      "/anaconda3/lib/python3.7/site-packages/sklearn/ensemble/forest.py:246: FutureWarning: The default value of n_estimators will change from 10 in version 0.20 to 100 in 0.22.\n",
      "  \"10 in version 0.20 to 100 in 0.22.\", FutureWarning)\n",
      "/anaconda3/lib/python3.7/site-packages/sklearn/ensemble/forest.py:246: FutureWarning: The default value of n_estimators will change from 10 in version 0.20 to 100 in 0.22.\n",
      "  \"10 in version 0.20 to 100 in 0.22.\", FutureWarning)\n"
     ]
    },
    {
     "data": {
      "text/plain": [
       "model_name\n",
       "LinearSVC                 0.591225\n",
       "RandomForestClassifier    0.759332\n",
       "Name: accuracy, dtype: float64"
      ]
     },
     "execution_count": 27,
     "metadata": {},
     "output_type": "execute_result"
    }
   ],
   "source": [
    "models = [\n",
    "    LinearSVC(class_weight='balanced'),\n",
    "    #MultinomialNB(),\n",
    "    RandomForestClassifier(),\n",
    "    #LogisticRegression(random_state=0)\n",
    "]\n",
    "\n",
    "CV = KFold(n_splits = 3, shuffle = True, random_state = 0)\n",
    "cv_df = pd.DataFrame(index = range(3 * len(models)))\n",
    "\n",
    "\n",
    "# Which model do we choose?\n",
    "entries = []\n",
    "\n",
    "for model in models:\n",
    "    model_name = model.__class__.__name__\n",
    "    accuracies = cross_val_score(model, tfidf, county_codes, scoring = 'accuracy', cv = CV)\n",
    "    \n",
    "    for fold_idx, accuracy in enumerate(accuracies):\n",
    "        entries.append((model_name, fold_idx, accuracy))\n",
    "    \n",
    "cv_df = pd.DataFrame(entries, columns=['model_name', 'fold_idx', 'accuracy'])\n",
    "\n",
    "# we measure the mean accuracy for each model.\n",
    "cv_df.groupby('model_name').accuracy.mean()"
   ]
  },
  {
   "cell_type": "code",
   "execution_count": 28,
   "metadata": {},
   "outputs": [
    {
     "data": {
      "text/plain": [
       "array([0.76018067, 0.75840224, 0.75941238])"
      ]
     },
     "execution_count": 28,
     "metadata": {},
     "output_type": "execute_result"
    }
   ],
   "source": [
    "accuracies"
   ]
  },
  {
   "cell_type": "code",
   "execution_count": 38,
   "metadata": {},
   "outputs": [
    {
     "data": {
      "text/plain": [
       "<207892x31906 sparse matrix of type '<class 'numpy.float64'>'\n",
       "\twith 1203569 stored elements in Compressed Sparse Row format>"
      ]
     },
     "execution_count": 38,
     "metadata": {},
     "output_type": "execute_result"
    }
   ],
   "source": [
    "tfidf"
   ]
  },
  {
   "cell_type": "code",
   "execution_count": null,
   "metadata": {},
   "outputs": [],
   "source": []
  },
  {
   "cell_type": "code",
   "execution_count": null,
   "metadata": {},
   "outputs": [],
   "source": []
  },
  {
   "cell_type": "markdown",
   "metadata": {},
   "source": [
    "## using train_test_split"
   ]
  },
  {
   "cell_type": "code",
   "execution_count": 43,
   "metadata": {
    "scrolled": true
   },
   "outputs": [
    {
     "name": "stderr",
     "output_type": "stream",
     "text": [
      "/anaconda3/lib/python3.7/site-packages/sklearn/ensemble/forest.py:246: FutureWarning: The default value of n_estimators will change from 10 in version 0.20 to 100 in 0.22.\n",
      "  \"10 in version 0.20 to 100 in 0.22.\", FutureWarning)\n"
     ]
    },
    {
     "name": "stdout",
     "output_type": "stream",
     "text": [
      "              precision    recall  f1-score   support\n",
      "\n",
      "           1       0.82      0.73      0.77      4623\n",
      "           5       0.00      0.00      0.00        16\n",
      "           7       0.25      0.06      0.10       170\n",
      "           9       0.00      0.00      0.00        19\n",
      "          11       1.00      0.12      0.22        41\n",
      "          13       0.68      0.53      0.60       857\n",
      "          15       0.73      0.36      0.48       126\n",
      "          17       0.86      0.28      0.42        87\n",
      "          19       0.74      0.27      0.40       274\n",
      "          21       1.00      0.07      0.13        84\n",
      "          23       0.60      0.14      0.23       350\n",
      "          25       0.88      0.17      0.29        80\n",
      "          27       0.44      0.08      0.13       156\n",
      "          29       0.66      0.33      0.44       126\n",
      "          31       0.67      0.16      0.26        49\n",
      "          33       0.94      0.13      0.22       126\n",
      "          35       0.80      0.04      0.08       100\n",
      "          37       0.68      0.89      0.77     13445\n",
      "          39       0.46      0.06      0.10       102\n",
      "          41       0.93      0.56      0.70       357\n",
      "          45       0.26      0.29      0.28       434\n",
      "          47       0.86      0.36      0.51       116\n",
      "          49       1.00      0.18      0.30        34\n",
      "          53       0.75      0.29      0.42        82\n",
      "          55       0.57      0.20      0.29        41\n",
      "          57       0.71      0.24      0.36        70\n",
      "          59       0.80      0.70      0.75      3265\n",
      "          61       0.67      0.39      0.49       156\n",
      "          63       1.00      0.22      0.36        36\n",
      "          65       0.58      0.48      0.52       746\n",
      "          67       0.63      0.78      0.70      2046\n",
      "          69       0.60      0.16      0.25        19\n",
      "          71       0.79      0.43      0.56       648\n",
      "          73       0.74      0.85      0.79     12699\n",
      "          75       0.88      0.87      0.87      7704\n",
      "          77       0.89      0.36      0.52        88\n",
      "          79       0.86      0.50      0.63       113\n",
      "          81       0.77      0.56      0.65      1583\n",
      "          83       0.91      0.59      0.71       527\n",
      "          85       0.87      0.78      0.83      6283\n",
      "          87       0.98      0.71      0.82       447\n",
      "          89       0.80      0.24      0.37       278\n",
      "          91       0.00      0.00      0.00        10\n",
      "          93       0.94      0.07      0.12       224\n",
      "          95       0.94      0.37      0.53        81\n",
      "          97       0.85      0.22      0.35       337\n",
      "          99       0.52      0.35      0.42        78\n",
      "         101       1.00      0.24      0.38        34\n",
      "         103       1.00      0.14      0.24        36\n",
      "         105       1.00      0.06      0.12        16\n",
      "         107       0.54      0.15      0.23       144\n",
      "         109       0.50      0.03      0.06        34\n",
      "         111       0.76      0.34      0.47       273\n",
      "         113       0.96      0.85      0.90      2474\n",
      "         115       0.50      0.05      0.09        21\n",
      "\n",
      "   micro avg       0.76      0.76      0.76     62365\n",
      "   macro avg       0.72      0.33      0.40     62365\n",
      "weighted avg       0.77      0.76      0.75     62365\n",
      "\n"
     ]
    },
    {
     "name": "stderr",
     "output_type": "stream",
     "text": [
      "/anaconda3/lib/python3.7/site-packages/sklearn/metrics/classification.py:1143: UndefinedMetricWarning: Precision and F-score are ill-defined and being set to 0.0 in labels with no predicted samples.\n",
      "  'precision', 'predicted', average, warn_for)\n",
      "/anaconda3/lib/python3.7/site-packages/sklearn/metrics/classification.py:1143: UndefinedMetricWarning: Precision and F-score are ill-defined and being set to 0.0 in labels with no predicted samples.\n",
      "  'precision', 'predicted', average, warn_for)\n",
      "/anaconda3/lib/python3.7/site-packages/sklearn/metrics/classification.py:1143: UndefinedMetricWarning: Precision and F-score are ill-defined and being set to 0.0 in labels with no predicted samples.\n",
      "  'precision', 'predicted', average, warn_for)\n"
     ]
    }
   ],
   "source": [
    "model = RandomForestClassifier()\n",
    "X_train, X_test, y_train, y_test, indices_train, indices_test = train_test_split(tfidf, county_codes,\n",
    "                                                                                 df.index, test_size=0.3,\n",
    "                                                                                 shuffle = True,\n",
    "                                                                                 stratify = county_codes,\n",
    "                                                                                 random_state=0)\n",
    "\n",
    "model.fit(X_train, y_train)\n",
    "y_pred = model.predict(X_test)\n",
    "\n",
    "\n",
    "#print('accuracy %s' % accuracy_score(y_pred, y_test))\n",
    "print(classification_report(y_test, y_pred))"
   ]
  },
  {
   "cell_type": "code",
   "execution_count": null,
   "metadata": {},
   "outputs": [],
   "source": [
    "# confusion matrix\n",
    "confusion_mat = confusion_matrix(y_test, y_pred)\n",
    "df_confmat = pd.DataFrame(confusion_mat)\n",
    "sns.heatmap(df_confmat, annot=True)\n",
    "plt.ylabel('Actual')\n",
    "plt.xlabel('Predicted')\n",
    "plt.show()\n",
    "\n",
    "pd.Series(np.diag(df_confmat)).sum()\n",
    "\n",
    "\n",
    "\n",
    "\n",
    "\n",
    "\n",
    "\n",
    "\n",
    "\n",
    "\n",
    "\n"
   ]
  },
  {
   "cell_type": "markdown",
   "metadata": {},
   "source": [
    "## using cross validation (understanding it)"
   ]
  },
  {
   "cell_type": "code",
   "execution_count": 12,
   "metadata": {},
   "outputs": [
    {
     "name": "stderr",
     "output_type": "stream",
     "text": [
      "/anaconda3/lib/python3.7/site-packages/sklearn/model_selection/_split.py:652: Warning: The least populated class in y has only 1 members, which is too few. The minimum number of members in any class cannot be less than n_splits=3.\n",
      "  % (min_groups, self.n_splits)), Warning)\n",
      "/anaconda3/lib/python3.7/site-packages/sklearn/ensemble/forest.py:246: FutureWarning: The default value of n_estimators will change from 10 in version 0.20 to 100 in 0.22.\n",
      "  \"10 in version 0.20 to 100 in 0.22.\", FutureWarning)\n",
      "/anaconda3/lib/python3.7/site-packages/sklearn/ensemble/forest.py:246: FutureWarning: The default value of n_estimators will change from 10 in version 0.20 to 100 in 0.22.\n",
      "  \"10 in version 0.20 to 100 in 0.22.\", FutureWarning)\n",
      "/anaconda3/lib/python3.7/site-packages/sklearn/ensemble/forest.py:246: FutureWarning: The default value of n_estimators will change from 10 in version 0.20 to 100 in 0.22.\n",
      "  \"10 in version 0.20 to 100 in 0.22.\", FutureWarning)\n"
     ]
    }
   ],
   "source": [
    "model = RandomForestClassifier()\n",
    "scores = cross_val_score(model, tfidf, county_codes, cv=3)"
   ]
  },
  {
   "cell_type": "code",
   "execution_count": 13,
   "metadata": {},
   "outputs": [
    {
     "data": {
      "text/plain": [
       "array([0.4604576 , 0.56559447, 0.36240022])"
      ]
     },
     "execution_count": 13,
     "metadata": {},
     "output_type": "execute_result"
    }
   ],
   "source": [
    "scores\n"
   ]
  },
  {
   "cell_type": "code",
   "execution_count": null,
   "metadata": {},
   "outputs": [],
   "source": []
  },
  {
   "cell_type": "code",
   "execution_count": null,
   "metadata": {},
   "outputs": [],
   "source": []
  },
  {
   "cell_type": "markdown",
   "metadata": {},
   "source": [
    "## adding total_obligation\n"
   ]
  },
  {
   "cell_type": "code",
   "execution_count": 244,
   "metadata": {},
   "outputs": [],
   "source": [
    "from scipy.sparse import coo_matrix, hstack"
   ]
  },
  {
   "cell_type": "code",
   "execution_count": 247,
   "metadata": {},
   "outputs": [],
   "source": [
    "\n",
    "featureSetAll = hstack((tfidf, df.total_obligation.to_frame()))"
   ]
  },
  {
   "cell_type": "code",
   "execution_count": 15,
   "metadata": {},
   "outputs": [
    {
     "ename": "NameError",
     "evalue": "name 'featureSetAll' is not defined",
     "output_type": "error",
     "traceback": [
      "\u001b[0;31m---------------------------------------------------------------------------\u001b[0m",
      "\u001b[0;31mNameError\u001b[0m                                 Traceback (most recent call last)",
      "\u001b[0;32m<ipython-input-15-698c911e3ee3>\u001b[0m in \u001b[0;36m<module>\u001b[0;34m\u001b[0m\n\u001b[1;32m      1\u001b[0m \u001b[0mmodel\u001b[0m \u001b[0;34m=\u001b[0m \u001b[0mRandomForestClassifier\u001b[0m\u001b[0;34m(\u001b[0m\u001b[0;34m)\u001b[0m\u001b[0;34m\u001b[0m\u001b[0;34m\u001b[0m\u001b[0m\n\u001b[0;32m----> 2\u001b[0;31m X_train, X_test, y_train, y_test, indices_train, indices_test = train_test_split(featureSetAll, county_codes,\n\u001b[0m\u001b[1;32m      3\u001b[0m                                                                                  \u001b[0mdf\u001b[0m\u001b[0;34m.\u001b[0m\u001b[0mindex\u001b[0m\u001b[0;34m,\u001b[0m \u001b[0mtest_size\u001b[0m\u001b[0;34m=\u001b[0m\u001b[0;36m0.3\u001b[0m\u001b[0;34m,\u001b[0m\u001b[0;34m\u001b[0m\u001b[0;34m\u001b[0m\u001b[0m\n\u001b[1;32m      4\u001b[0m                                                                                  random_state=60)\n\u001b[1;32m      5\u001b[0m \u001b[0;34m\u001b[0m\u001b[0m\n",
      "\u001b[0;31mNameError\u001b[0m: name 'featureSetAll' is not defined"
     ]
    }
   ],
   "source": [
    "model = RandomForestClassifier()\n",
    "X_train, X_test, y_train, y_test, indices_train, indices_test = train_test_split(featureSetAll, county_codes,\n",
    "                                                                                 df.index, test_size=0.3,\n",
    "                                                                                 random_state=60)\n",
    "\n",
    "model.fit(X_train, y_train)\n",
    "y_pred = model.predict(X_test)\n",
    "\n",
    "\n",
    "print('accuracy %s' % accuracy_score(y_pred, y_test))\n",
    "print(classification_report(y_test, y_pred))"
   ]
  },
  {
   "cell_type": "code",
   "execution_count": null,
   "metadata": {},
   "outputs": [],
   "source": []
  },
  {
   "cell_type": "code",
   "execution_count": null,
   "metadata": {},
   "outputs": [],
   "source": []
  },
  {
   "cell_type": "markdown",
   "metadata": {},
   "source": [
    "# understanding data imbalance"
   ]
  },
  {
   "cell_type": "code",
   "execution_count": 154,
   "metadata": {},
   "outputs": [
    {
     "name": "stdout",
     "output_type": "stream",
     "text": [
      "[(1, 15410), (5, 52), (7, 566), (9, 62), (11, 137), (13, 2855), (15, 421), (17, 290), (19, 915), (21, 279), (23, 1166), (25, 266), (27, 521), (29, 421), (31, 163), (33, 421), (35, 335), (37, 44818), (39, 339), (41, 1189), (45, 1446), (47, 387), (49, 113), (53, 272), (55, 138), (57, 232), (59, 10883), (61, 519), (63, 120), (65, 2486), (67, 6821), (69, 63), (71, 2160), (73, 42330), (75, 25681), (77, 292), (79, 378), (81, 5275), (83, 1757), (85, 20943), (87, 1491), (89, 928), (91, 32), (93, 747), (95, 271), (97, 1122), (99, 259), (101, 115), (103, 121), (105, 55), (107, 481), (109, 112), (111, 910), (113, 8246), (115, 71)]\n"
     ]
    }
   ],
   "source": [
    "unique, counts = np.unique(county_codes, return_counts=True)\n",
    "print(sorted(dict(zip(unique, counts)).items(), key=lambda kv: kv[0]))\n",
    "\n"
   ]
  },
  {
   "cell_type": "code",
   "execution_count": 153,
   "metadata": {},
   "outputs": [
    {
     "name": "stdout",
     "output_type": "stream",
     "text": [
      "[(91, 6), (5, 14), (105, 16), (69, 17), (9, 19), (115, 27), (63, 29), (101, 29), (49, 33), (109, 36), (103, 42), (11, 45), (31, 51), (55, 52), (57, 66), (95, 73), (25, 80), (17, 84), (77, 84), (53, 90), (39, 92), (21, 94), (99, 96), (35, 99), (47, 103), (29, 107), (15, 112), (79, 117), (107, 124), (33, 125), (7, 153), (27, 161), (61, 162), (93, 229), (111, 260), (89, 262), (19, 294), (97, 320), (23, 335), (41, 365), (45, 425), (87, 434), (83, 479), (71, 665), (65, 759), (13, 862), (81, 1559), (67, 2012), (113, 2472), (59, 3317), (1, 4679), (85, 6163), (75, 7701), (73, 12842), (37, 13493)]\n"
     ]
    }
   ],
   "source": [
    "unique, counts = np.unique(y_test, return_counts=True)\n",
    "print(sorted(dict(zip(unique, counts)).items(), key=lambda kv: kv[1]))\n",
    "\n"
   ]
  },
  {
   "cell_type": "code",
   "execution_count": 30,
   "metadata": {},
   "outputs": [
    {
     "name": "stderr",
     "output_type": "stream",
     "text": [
      "/anaconda3/lib/python3.7/site-packages/sklearn/metrics/classification.py:1143: UndefinedMetricWarning: Precision and F-score are ill-defined and being set to 0.0 in labels with no predicted samples.\n",
      "  'precision', 'predicted', average, warn_for)\n",
      "/anaconda3/lib/python3.7/site-packages/sklearn/metrics/classification.py:1143: UndefinedMetricWarning: Precision and F-score are ill-defined and being set to 0.0 in labels with no predicted samples.\n",
      "  'precision', 'predicted', average, warn_for)\n",
      "/anaconda3/lib/python3.7/site-packages/sklearn/metrics/classification.py:1143: UndefinedMetricWarning: Precision and F-score are ill-defined and being set to 0.0 in labels with no predicted samples.\n",
      "  'precision', 'predicted', average, warn_for)\n"
     ]
    },
    {
     "data": {
      "text/html": [
       "<div>\n",
       "<style scoped>\n",
       "    .dataframe tbody tr th:only-of-type {\n",
       "        vertical-align: middle;\n",
       "    }\n",
       "\n",
       "    .dataframe tbody tr th {\n",
       "        vertical-align: top;\n",
       "    }\n",
       "\n",
       "    .dataframe thead th {\n",
       "        text-align: right;\n",
       "    }\n",
       "</style>\n",
       "<table border=\"1\" class=\"dataframe\">\n",
       "  <thead>\n",
       "    <tr style=\"text-align: right;\">\n",
       "      <th></th>\n",
       "      <th>f1-score</th>\n",
       "      <th>precision</th>\n",
       "      <th>recall</th>\n",
       "      <th>support</th>\n",
       "    </tr>\n",
       "  </thead>\n",
       "  <tbody>\n",
       "    <tr>\n",
       "      <th>3</th>\n",
       "      <td>0.000000</td>\n",
       "      <td>0.000000</td>\n",
       "      <td>0.000000</td>\n",
       "      <td>2.0</td>\n",
       "    </tr>\n",
       "    <tr>\n",
       "      <th>5</th>\n",
       "      <td>0.000000</td>\n",
       "      <td>0.000000</td>\n",
       "      <td>0.000000</td>\n",
       "      <td>20.0</td>\n",
       "    </tr>\n",
       "    <tr>\n",
       "      <th>7</th>\n",
       "      <td>0.088608</td>\n",
       "      <td>0.736842</td>\n",
       "      <td>0.047138</td>\n",
       "      <td>297.0</td>\n",
       "    </tr>\n",
       "    <tr>\n",
       "      <th>9</th>\n",
       "      <td>0.066667</td>\n",
       "      <td>1.000000</td>\n",
       "      <td>0.034483</td>\n",
       "      <td>29.0</td>\n",
       "    </tr>\n",
       "    <tr>\n",
       "      <th>11</th>\n",
       "      <td>0.352941</td>\n",
       "      <td>1.000000</td>\n",
       "      <td>0.214286</td>\n",
       "      <td>70.0</td>\n",
       "    </tr>\n",
       "    <tr>\n",
       "      <th>13</th>\n",
       "      <td>0.558216</td>\n",
       "      <td>0.671968</td>\n",
       "      <td>0.477401</td>\n",
       "      <td>1416.0</td>\n",
       "    </tr>\n",
       "    <tr>\n",
       "      <th>15</th>\n",
       "      <td>0.416216</td>\n",
       "      <td>0.472393</td>\n",
       "      <td>0.371981</td>\n",
       "      <td>207.0</td>\n",
       "    </tr>\n",
       "    <tr>\n",
       "      <th>17</th>\n",
       "      <td>0.391304</td>\n",
       "      <td>0.782609</td>\n",
       "      <td>0.260870</td>\n",
       "      <td>138.0</td>\n",
       "    </tr>\n",
       "    <tr>\n",
       "      <th>19</th>\n",
       "      <td>0.365733</td>\n",
       "      <td>0.770833</td>\n",
       "      <td>0.239741</td>\n",
       "      <td>463.0</td>\n",
       "    </tr>\n",
       "    <tr>\n",
       "      <th>21</th>\n",
       "      <td>0.097222</td>\n",
       "      <td>0.777778</td>\n",
       "      <td>0.051852</td>\n",
       "      <td>135.0</td>\n",
       "    </tr>\n",
       "    <tr>\n",
       "      <th>23</th>\n",
       "      <td>0.194093</td>\n",
       "      <td>0.410714</td>\n",
       "      <td>0.127072</td>\n",
       "      <td>543.0</td>\n",
       "    </tr>\n",
       "    <tr>\n",
       "      <th>25</th>\n",
       "      <td>0.328947</td>\n",
       "      <td>0.925926</td>\n",
       "      <td>0.200000</td>\n",
       "      <td>125.0</td>\n",
       "    </tr>\n",
       "    <tr>\n",
       "      <th>27</th>\n",
       "      <td>0.194969</td>\n",
       "      <td>0.574074</td>\n",
       "      <td>0.117424</td>\n",
       "      <td>264.0</td>\n",
       "    </tr>\n",
       "    <tr>\n",
       "      <th>29</th>\n",
       "      <td>0.295082</td>\n",
       "      <td>0.750000</td>\n",
       "      <td>0.183673</td>\n",
       "      <td>196.0</td>\n",
       "    </tr>\n",
       "    <tr>\n",
       "      <th>31</th>\n",
       "      <td>0.175439</td>\n",
       "      <td>0.384615</td>\n",
       "      <td>0.113636</td>\n",
       "      <td>88.0</td>\n",
       "    </tr>\n",
       "    <tr>\n",
       "      <th>33</th>\n",
       "      <td>0.166667</td>\n",
       "      <td>1.000000</td>\n",
       "      <td>0.090909</td>\n",
       "      <td>209.0</td>\n",
       "    </tr>\n",
       "    <tr>\n",
       "      <th>35</th>\n",
       "      <td>0.079096</td>\n",
       "      <td>1.000000</td>\n",
       "      <td>0.041176</td>\n",
       "      <td>170.0</td>\n",
       "    </tr>\n",
       "    <tr>\n",
       "      <th>39</th>\n",
       "      <td>0.151163</td>\n",
       "      <td>0.866667</td>\n",
       "      <td>0.082803</td>\n",
       "      <td>157.0</td>\n",
       "    </tr>\n",
       "    <tr>\n",
       "      <th>41</th>\n",
       "      <td>0.665203</td>\n",
       "      <td>0.907186</td>\n",
       "      <td>0.525130</td>\n",
       "      <td>577.0</td>\n",
       "    </tr>\n",
       "    <tr>\n",
       "      <th>45</th>\n",
       "      <td>0.292079</td>\n",
       "      <td>0.344358</td>\n",
       "      <td>0.253582</td>\n",
       "      <td>698.0</td>\n",
       "    </tr>\n",
       "    <tr>\n",
       "      <th>47</th>\n",
       "      <td>0.529851</td>\n",
       "      <td>0.946667</td>\n",
       "      <td>0.367876</td>\n",
       "      <td>193.0</td>\n",
       "    </tr>\n",
       "    <tr>\n",
       "      <th>49</th>\n",
       "      <td>0.312500</td>\n",
       "      <td>0.769231</td>\n",
       "      <td>0.196078</td>\n",
       "      <td>51.0</td>\n",
       "    </tr>\n",
       "    <tr>\n",
       "      <th>51</th>\n",
       "      <td>0.000000</td>\n",
       "      <td>0.000000</td>\n",
       "      <td>0.000000</td>\n",
       "      <td>1.0</td>\n",
       "    </tr>\n",
       "    <tr>\n",
       "      <th>53</th>\n",
       "      <td>0.460674</td>\n",
       "      <td>0.872340</td>\n",
       "      <td>0.312977</td>\n",
       "      <td>131.0</td>\n",
       "    </tr>\n",
       "    <tr>\n",
       "      <th>55</th>\n",
       "      <td>0.301075</td>\n",
       "      <td>0.823529</td>\n",
       "      <td>0.184211</td>\n",
       "      <td>76.0</td>\n",
       "    </tr>\n",
       "    <tr>\n",
       "      <th>57</th>\n",
       "      <td>0.349650</td>\n",
       "      <td>0.595238</td>\n",
       "      <td>0.247525</td>\n",
       "      <td>101.0</td>\n",
       "    </tr>\n",
       "    <tr>\n",
       "      <th>59</th>\n",
       "      <td>0.713125</td>\n",
       "      <td>0.781911</td>\n",
       "      <td>0.655462</td>\n",
       "      <td>5355.0</td>\n",
       "    </tr>\n",
       "    <tr>\n",
       "      <th>61</th>\n",
       "      <td>0.501182</td>\n",
       "      <td>0.662500</td>\n",
       "      <td>0.403042</td>\n",
       "      <td>263.0</td>\n",
       "    </tr>\n",
       "    <tr>\n",
       "      <th>63</th>\n",
       "      <td>0.268657</td>\n",
       "      <td>1.000000</td>\n",
       "      <td>0.155172</td>\n",
       "      <td>58.0</td>\n",
       "    </tr>\n",
       "    <tr>\n",
       "      <th>65</th>\n",
       "      <td>0.533854</td>\n",
       "      <td>0.591915</td>\n",
       "      <td>0.486166</td>\n",
       "      <td>1265.0</td>\n",
       "    </tr>\n",
       "    <tr>\n",
       "      <th>69</th>\n",
       "      <td>0.216216</td>\n",
       "      <td>0.666667</td>\n",
       "      <td>0.129032</td>\n",
       "      <td>31.0</td>\n",
       "    </tr>\n",
       "    <tr>\n",
       "      <th>71</th>\n",
       "      <td>0.507335</td>\n",
       "      <td>0.754545</td>\n",
       "      <td>0.382136</td>\n",
       "      <td>1086.0</td>\n",
       "    </tr>\n",
       "    <tr>\n",
       "      <th>77</th>\n",
       "      <td>0.453608</td>\n",
       "      <td>0.814815</td>\n",
       "      <td>0.314286</td>\n",
       "      <td>140.0</td>\n",
       "    </tr>\n",
       "    <tr>\n",
       "      <th>79</th>\n",
       "      <td>0.613333</td>\n",
       "      <td>0.821429</td>\n",
       "      <td>0.489362</td>\n",
       "      <td>188.0</td>\n",
       "    </tr>\n",
       "    <tr>\n",
       "      <th>81</th>\n",
       "      <td>0.616366</td>\n",
       "      <td>0.724031</td>\n",
       "      <td>0.536576</td>\n",
       "      <td>2611.0</td>\n",
       "    </tr>\n",
       "    <tr>\n",
       "      <th>83</th>\n",
       "      <td>0.664731</td>\n",
       "      <td>0.869070</td>\n",
       "      <td>0.538190</td>\n",
       "      <td>851.0</td>\n",
       "    </tr>\n",
       "    <tr>\n",
       "      <th>87</th>\n",
       "      <td>0.790085</td>\n",
       "      <td>0.962264</td>\n",
       "      <td>0.670171</td>\n",
       "      <td>761.0</td>\n",
       "    </tr>\n",
       "    <tr>\n",
       "      <th>89</th>\n",
       "      <td>0.325260</td>\n",
       "      <td>0.648276</td>\n",
       "      <td>0.217090</td>\n",
       "      <td>433.0</td>\n",
       "    </tr>\n",
       "    <tr>\n",
       "      <th>91</th>\n",
       "      <td>0.000000</td>\n",
       "      <td>0.000000</td>\n",
       "      <td>0.000000</td>\n",
       "      <td>18.0</td>\n",
       "    </tr>\n",
       "    <tr>\n",
       "      <th>93</th>\n",
       "      <td>0.093137</td>\n",
       "      <td>0.678571</td>\n",
       "      <td>0.050000</td>\n",
       "      <td>380.0</td>\n",
       "    </tr>\n",
       "    <tr>\n",
       "      <th>95</th>\n",
       "      <td>0.379310</td>\n",
       "      <td>0.804878</td>\n",
       "      <td>0.248120</td>\n",
       "      <td>133.0</td>\n",
       "    </tr>\n",
       "    <tr>\n",
       "      <th>97</th>\n",
       "      <td>0.322857</td>\n",
       "      <td>0.758389</td>\n",
       "      <td>0.205082</td>\n",
       "      <td>551.0</td>\n",
       "    </tr>\n",
       "    <tr>\n",
       "      <th>99</th>\n",
       "      <td>0.344498</td>\n",
       "      <td>0.444444</td>\n",
       "      <td>0.281250</td>\n",
       "      <td>128.0</td>\n",
       "    </tr>\n",
       "    <tr>\n",
       "      <th>101</th>\n",
       "      <td>0.264706</td>\n",
       "      <td>0.500000</td>\n",
       "      <td>0.180000</td>\n",
       "      <td>50.0</td>\n",
       "    </tr>\n",
       "    <tr>\n",
       "      <th>103</th>\n",
       "      <td>0.197183</td>\n",
       "      <td>0.875000</td>\n",
       "      <td>0.111111</td>\n",
       "      <td>63.0</td>\n",
       "    </tr>\n",
       "    <tr>\n",
       "      <th>105</th>\n",
       "      <td>0.060606</td>\n",
       "      <td>1.000000</td>\n",
       "      <td>0.031250</td>\n",
       "      <td>32.0</td>\n",
       "    </tr>\n",
       "    <tr>\n",
       "      <th>107</th>\n",
       "      <td>0.228956</td>\n",
       "      <td>0.430380</td>\n",
       "      <td>0.155963</td>\n",
       "      <td>218.0</td>\n",
       "    </tr>\n",
       "    <tr>\n",
       "      <th>109</th>\n",
       "      <td>0.284698</td>\n",
       "      <td>0.180180</td>\n",
       "      <td>0.677966</td>\n",
       "      <td>59.0</td>\n",
       "    </tr>\n",
       "    <tr>\n",
       "      <th>111</th>\n",
       "      <td>0.463023</td>\n",
       "      <td>0.804469</td>\n",
       "      <td>0.325056</td>\n",
       "      <td>443.0</td>\n",
       "    </tr>\n",
       "    <tr>\n",
       "      <th>115</th>\n",
       "      <td>0.042553</td>\n",
       "      <td>1.000000</td>\n",
       "      <td>0.021739</td>\n",
       "      <td>46.0</td>\n",
       "    </tr>\n",
       "    <tr>\n",
       "      <th>macro avg</th>\n",
       "      <td>0.370655</td>\n",
       "      <td>0.693677</td>\n",
       "      <td>0.307127</td>\n",
       "      <td>103946.0</td>\n",
       "    </tr>\n",
       "  </tbody>\n",
       "</table>\n",
       "</div>"
      ],
      "text/plain": [
       "           f1-score  precision    recall   support\n",
       "3          0.000000   0.000000  0.000000       2.0\n",
       "5          0.000000   0.000000  0.000000      20.0\n",
       "7          0.088608   0.736842  0.047138     297.0\n",
       "9          0.066667   1.000000  0.034483      29.0\n",
       "11         0.352941   1.000000  0.214286      70.0\n",
       "13         0.558216   0.671968  0.477401    1416.0\n",
       "15         0.416216   0.472393  0.371981     207.0\n",
       "17         0.391304   0.782609  0.260870     138.0\n",
       "19         0.365733   0.770833  0.239741     463.0\n",
       "21         0.097222   0.777778  0.051852     135.0\n",
       "23         0.194093   0.410714  0.127072     543.0\n",
       "25         0.328947   0.925926  0.200000     125.0\n",
       "27         0.194969   0.574074  0.117424     264.0\n",
       "29         0.295082   0.750000  0.183673     196.0\n",
       "31         0.175439   0.384615  0.113636      88.0\n",
       "33         0.166667   1.000000  0.090909     209.0\n",
       "35         0.079096   1.000000  0.041176     170.0\n",
       "39         0.151163   0.866667  0.082803     157.0\n",
       "41         0.665203   0.907186  0.525130     577.0\n",
       "45         0.292079   0.344358  0.253582     698.0\n",
       "47         0.529851   0.946667  0.367876     193.0\n",
       "49         0.312500   0.769231  0.196078      51.0\n",
       "51         0.000000   0.000000  0.000000       1.0\n",
       "53         0.460674   0.872340  0.312977     131.0\n",
       "55         0.301075   0.823529  0.184211      76.0\n",
       "57         0.349650   0.595238  0.247525     101.0\n",
       "59         0.713125   0.781911  0.655462    5355.0\n",
       "61         0.501182   0.662500  0.403042     263.0\n",
       "63         0.268657   1.000000  0.155172      58.0\n",
       "65         0.533854   0.591915  0.486166    1265.0\n",
       "69         0.216216   0.666667  0.129032      31.0\n",
       "71         0.507335   0.754545  0.382136    1086.0\n",
       "77         0.453608   0.814815  0.314286     140.0\n",
       "79         0.613333   0.821429  0.489362     188.0\n",
       "81         0.616366   0.724031  0.536576    2611.0\n",
       "83         0.664731   0.869070  0.538190     851.0\n",
       "87         0.790085   0.962264  0.670171     761.0\n",
       "89         0.325260   0.648276  0.217090     433.0\n",
       "91         0.000000   0.000000  0.000000      18.0\n",
       "93         0.093137   0.678571  0.050000     380.0\n",
       "95         0.379310   0.804878  0.248120     133.0\n",
       "97         0.322857   0.758389  0.205082     551.0\n",
       "99         0.344498   0.444444  0.281250     128.0\n",
       "101        0.264706   0.500000  0.180000      50.0\n",
       "103        0.197183   0.875000  0.111111      63.0\n",
       "105        0.060606   1.000000  0.031250      32.0\n",
       "107        0.228956   0.430380  0.155963     218.0\n",
       "109        0.284698   0.180180  0.677966      59.0\n",
       "111        0.463023   0.804469  0.325056     443.0\n",
       "115        0.042553   1.000000  0.021739      46.0\n",
       "macro avg  0.370655   0.693677  0.307127  103946.0"
      ]
     },
     "execution_count": 30,
     "metadata": {},
     "output_type": "execute_result"
    }
   ],
   "source": [
    "temp = classification_report(y_test, y_pred, output_dict = True)\n",
    "class_report = pd.DataFrame(temp).transpose()\n",
    "\n",
    "class_report[class_report.recall < 0.7]"
   ]
  },
  {
   "cell_type": "code",
   "execution_count": null,
   "metadata": {},
   "outputs": [],
   "source": [
    "# What are the classes we want to improve\n",
    "\n",
    "classes = {57:50} #class 57\n",
    "\n",
    "ros = RandomOverSampler(ratio=classes, random_state=0)\n",
    "x_resampled, y_resampled = ros.fit_resample(tfidf, county_codes)\n",
    "\n",
    "print(sorted(Counter(y_resampled).items()))"
   ]
  },
  {
   "cell_type": "code",
   "execution_count": null,
   "metadata": {},
   "outputs": [],
   "source": []
  },
  {
   "cell_type": "code",
   "execution_count": null,
   "metadata": {},
   "outputs": [],
   "source": []
  },
  {
   "cell_type": "markdown",
   "metadata": {},
   "source": [
    "# things to remember\n"
   ]
  },
  {
   "cell_type": "markdown",
   "metadata": {},
   "source": [
    "### what about hashing?\n",
    "\n",
    "If I understand correctly, you essentially have two forms of features for your models. (1) Text data that you have represented as a sparse bag of words and (2) more traditional dense features. If that is the case then there are 3 common approaches:\n",
    "\n",
    "- Perform dimensionality reduction (such as LSA via TruncatedSVD) on your sparse data to make it dense and combine the features into a single dense matrix to train your model(s).\n",
    "\n",
    "- Add your few dense features to your sparse matrix using something like scipy's hstack into a single sparse matrix to train your model(s).\n",
    "\n",
    "- Create a model using only your sparse text data and then combine its predictions (probabilities if it's classification) as a dense feature with your other dense features to create a model (ie: ensembling via stacking). \n",
    "\n",
    "If you go this route remember to only use CV predictions as features to train your model otherwise you'll likely overfit quite badly (you can make a quite class to do this all within a single Pipeline if desired).\n",
    "\n",
    "\n",
    "- Accuracy is not the metric to use when working with an imbalanced dataset. We have seen that it is misleading\n",
    "\n",
    "Things to look at:\n",
    "\n",
    "\n",
    "\n",
    "- Confusion Matrix: A breakdown of predictions into a table showing correct predictions (the diagonal) and the types of incorrect predictions made (what classes incorrect predictions were assigned).\n",
    "- Precision: A measure of a classifiers exactness.\n",
    "- Recall: A measure of a classifiers completeness\n",
    "- F1 Score (or F-score): A weighted average of precision and recall.\n",
    "\n",
    "I would also advice you to take a look at the following:\n",
    "\n",
    "- Kappa (or Cohen’s kappa): Classification accuracy normalized by the imbalance of the classes in the data.\n",
    "- ROC Curves: Like precision and recall, accuracy is divided into sensitivity and specificity and models can be chosen based on the balance thr"
   ]
  },
  {
   "cell_type": "code",
   "execution_count": null,
   "metadata": {},
   "outputs": [],
   "source": []
  }
 ],
 "metadata": {
  "kernelspec": {
   "display_name": "Python 3",
   "language": "python",
   "name": "python3"
  },
  "language_info": {
   "codemirror_mode": {
    "name": "ipython",
    "version": 3
   },
   "file_extension": ".py",
   "mimetype": "text/x-python",
   "name": "python",
   "nbconvert_exporter": "python",
   "pygments_lexer": "ipython3",
   "version": "3.7.2"
  }
 },
 "nbformat": 4,
 "nbformat_minor": 2
}
