{
 "cells": [
  {
   "cell_type": "code",
   "execution_count": 26,
   "metadata": {},
   "outputs": [],
   "source": [
    "import pandas as pd\n",
    "import string\n",
    "import re\n",
    "import nltk\n",
    "from nltk.corpus import stopwords\n",
    "import random\n",
    "import numpy as np\n",
    "import seaborn as sns\n",
    "import matplotlib.pyplot as plt"
   ]
  },
  {
   "cell_type": "code",
   "execution_count": null,
   "metadata": {},
   "outputs": [],
   "source": [
    "from sklearn.feature_extraction.text import TfidfVectorizer\n",
    "from sklearn.feature_extraction.text import TfidfTransformer\n",
    "from sklearn.feature_extraction.text import CountVectorizer"
   ]
  },
  {
   "cell_type": "markdown",
   "metadata": {},
   "source": [
    "Ideas:\n",
    "\n",
    "- what do agencies spend the money on? Let's use the same ideas we have been working with. \n",
    "- clustering algorithm for all agencies and for all the years. what is the evolution? obamacare?\n",
    "\n"
   ]
  },
  {
   "cell_type": "markdown",
   "metadata": {},
   "source": [
    "## the first question: do different counties spend in different things?"
   ]
  },
  {
   "cell_type": "markdown",
   "metadata": {},
   "source": [
    "## load data and preprocess transaction_description"
   ]
  },
  {
   "cell_type": "code",
   "execution_count": 36,
   "metadata": {},
   "outputs": [
    {
     "name": "stdout",
     "output_type": "stream",
     "text": [
      "(207892, 4)\n"
     ]
    },
    {
     "data": {
      "text/html": [
       "<div>\n",
       "<style scoped>\n",
       "    .dataframe tbody tr th:only-of-type {\n",
       "        vertical-align: middle;\n",
       "    }\n",
       "\n",
       "    .dataframe tbody tr th {\n",
       "        vertical-align: top;\n",
       "    }\n",
       "\n",
       "    .dataframe thead th {\n",
       "        text-align: right;\n",
       "    }\n",
       "</style>\n",
       "<table border=\"1\" class=\"dataframe\">\n",
       "  <thead>\n",
       "    <tr style=\"text-align: right;\">\n",
       "      <th></th>\n",
       "      <th>total_obligation</th>\n",
       "      <th>transaction_description</th>\n",
       "      <th>business_categories</th>\n",
       "      <th>recipient_location_county_code</th>\n",
       "    </tr>\n",
       "  </thead>\n",
       "  <tbody>\n",
       "    <tr>\n",
       "      <th>0</th>\n",
       "      <td>4468.0</td>\n",
       "      <td>TAS::75 0943::TAS 00HCCMBG-2009-70054 - MINIGU...</td>\n",
       "      <td>small_business limited_liability_corporation c...</td>\n",
       "      <td>113</td>\n",
       "    </tr>\n",
       "    <tr>\n",
       "      <th>1</th>\n",
       "      <td>574970.0</td>\n",
       "      <td>ACCESSIBLE ENVIRONMENTAL INFORMATION APPLICATI...</td>\n",
       "      <td>small_business category_business</td>\n",
       "      <td>113</td>\n",
       "    </tr>\n",
       "    <tr>\n",
       "      <th>2</th>\n",
       "      <td>75000.0</td>\n",
       "      <td>ACCESSIBLE ENVIRONMENTAL INFORMATION APPLICATI...</td>\n",
       "      <td>small_business category_business</td>\n",
       "      <td>113</td>\n",
       "    </tr>\n",
       "    <tr>\n",
       "      <th>3</th>\n",
       "      <td>574970.0</td>\n",
       "      <td>ACCESSIBLE ENVIRONMENTAL INFORMATION APPLICATI...</td>\n",
       "      <td>small_business category_business</td>\n",
       "      <td>113</td>\n",
       "    </tr>\n",
       "    <tr>\n",
       "      <th>4</th>\n",
       "      <td>574970.0</td>\n",
       "      <td>ACCESSIBLE ENVIRONMENTAL INFORMATION APPLICATI...</td>\n",
       "      <td>small_business category_business</td>\n",
       "      <td>113</td>\n",
       "    </tr>\n",
       "  </tbody>\n",
       "</table>\n",
       "</div>"
      ],
      "text/plain": [
       "   total_obligation                            transaction_description  \\\n",
       "0            4468.0  TAS::75 0943::TAS 00HCCMBG-2009-70054 - MINIGU...   \n",
       "1          574970.0  ACCESSIBLE ENVIRONMENTAL INFORMATION APPLICATI...   \n",
       "2           75000.0  ACCESSIBLE ENVIRONMENTAL INFORMATION APPLICATI...   \n",
       "3          574970.0  ACCESSIBLE ENVIRONMENTAL INFORMATION APPLICATI...   \n",
       "4          574970.0  ACCESSIBLE ENVIRONMENTAL INFORMATION APPLICATI...   \n",
       "\n",
       "                                 business_categories  \\\n",
       "0  small_business limited_liability_corporation c...   \n",
       "1                   small_business category_business   \n",
       "2                   small_business category_business   \n",
       "3                   small_business category_business   \n",
       "4                   small_business category_business   \n",
       "\n",
       "   recipient_location_county_code  \n",
       "0                             113  \n",
       "1                             113  \n",
       "2                             113  \n",
       "3                             113  \n",
       "4                             113  "
      ]
     },
     "execution_count": 36,
     "metadata": {},
     "output_type": "execute_result"
    }
   ],
   "source": [
    "DATAFILE_model = '/Users/rodrigo/Documents/Big-Data/final-project/hhs_ca/ML/df_model.csv'\n",
    "\n",
    "df = pd.read_csv(DATAFILE_model, low_memory = False)\n",
    "df = df[['total_obligation', 'transaction_description', 'business_categories', 'recipient_location_county_code']]\n",
    "df = df[pd.notnull(df['transaction_description'])]\n",
    "\n",
    "#t = df[df.transaction_description  != \"\"]\n",
    "#df = df[pd.notnull(df['total_obligation'])]\n",
    "\n",
    "print(df.shape)\n",
    "df.head()"
   ]
  },
  {
   "cell_type": "code",
   "execution_count": null,
   "metadata": {},
   "outputs": [],
   "source": []
  },
  {
   "cell_type": "code",
   "execution_count": 31,
   "metadata": {},
   "outputs": [],
   "source": [
    "tr_descriptions = df['transaction_description']\n",
    "\n",
    "snowball = nltk.stem.SnowballStemmer('english')\n",
    "\n",
    "temp = []\n",
    "\n",
    "for transaction in tr_descriptions:\n",
    "    transaction = transaction.lower()                                            # changing to lower case\n",
    "    transaction = \"\".join(l for l in transaction if l not in string.punctuation) # removing puntuation\n",
    "    transaction = ''.join([l for l in transaction if not l.isdigit()])           # removing numbers\n",
    "    words = [snowball.stem(word) for word in transaction.split()                 # stemming the words\n",
    "             if word not in stopwords.words('english')]                          # remvoving stopwords\n",
    "    temp.append(words)\n",
    "\n",
    "# flatten the list\n",
    "sent = []\n",
    "for row in temp:\n",
    "    sequ = ''\n",
    "    for word in row:\n",
    "        sequ = sequ + ' ' + word\n",
    "    sent.append(sequ)\n",
    "    \n",
    "tr_descriptions = sent"
   ]
  },
  {
   "cell_type": "code",
   "execution_count": 38,
   "metadata": {},
   "outputs": [
    {
     "data": {
      "text/html": [
       "<div>\n",
       "<style scoped>\n",
       "    .dataframe tbody tr th:only-of-type {\n",
       "        vertical-align: middle;\n",
       "    }\n",
       "\n",
       "    .dataframe tbody tr th {\n",
       "        vertical-align: top;\n",
       "    }\n",
       "\n",
       "    .dataframe thead th {\n",
       "        text-align: right;\n",
       "    }\n",
       "</style>\n",
       "<table border=\"1\" class=\"dataframe\">\n",
       "  <thead>\n",
       "    <tr style=\"text-align: right;\">\n",
       "      <th></th>\n",
       "      <th>total_obligation</th>\n",
       "      <th>transaction_description</th>\n",
       "      <th>business_categories</th>\n",
       "      <th>recipient_location_county_code</th>\n",
       "      <th>transaction_descriptioni</th>\n",
       "    </tr>\n",
       "  </thead>\n",
       "  <tbody>\n",
       "    <tr>\n",
       "      <th>0</th>\n",
       "      <td>4468.0</td>\n",
       "      <td>tas tas hccmbg miniguid ultrason devic trevit</td>\n",
       "      <td>small_business limited_liability_corporation c...</td>\n",
       "      <td>113</td>\n",
       "      <td>tas tas hccmbg miniguid ultrason devic trevit</td>\n",
       "    </tr>\n",
       "    <tr>\n",
       "      <th>1</th>\n",
       "      <td>574970.0</td>\n",
       "      <td>access environment inform applic individu vis...</td>\n",
       "      <td>small_business category_business</td>\n",
       "      <td>113</td>\n",
       "      <td>access environment inform applic individu vis...</td>\n",
       "    </tr>\n",
       "    <tr>\n",
       "      <th>2</th>\n",
       "      <td>75000.0</td>\n",
       "      <td>access environment inform applic individu vis...</td>\n",
       "      <td>small_business category_business</td>\n",
       "      <td>113</td>\n",
       "      <td>access environment inform applic individu vis...</td>\n",
       "    </tr>\n",
       "    <tr>\n",
       "      <th>3</th>\n",
       "      <td>574970.0</td>\n",
       "      <td>access environment inform applic individu vis...</td>\n",
       "      <td>small_business category_business</td>\n",
       "      <td>113</td>\n",
       "      <td>access environment inform applic individu vis...</td>\n",
       "    </tr>\n",
       "    <tr>\n",
       "      <th>4</th>\n",
       "      <td>574970.0</td>\n",
       "      <td>access environment inform applic individu vis...</td>\n",
       "      <td>small_business category_business</td>\n",
       "      <td>113</td>\n",
       "      <td>access environment inform applic individu vis...</td>\n",
       "    </tr>\n",
       "  </tbody>\n",
       "</table>\n",
       "</div>"
      ],
      "text/plain": [
       "   total_obligation                            transaction_description  \\\n",
       "0            4468.0      tas tas hccmbg miniguid ultrason devic trevit   \n",
       "1          574970.0   access environment inform applic individu vis...   \n",
       "2           75000.0   access environment inform applic individu vis...   \n",
       "3          574970.0   access environment inform applic individu vis...   \n",
       "4          574970.0   access environment inform applic individu vis...   \n",
       "\n",
       "                                 business_categories  \\\n",
       "0  small_business limited_liability_corporation c...   \n",
       "1                   small_business category_business   \n",
       "2                   small_business category_business   \n",
       "3                   small_business category_business   \n",
       "4                   small_business category_business   \n",
       "\n",
       "   recipient_location_county_code  \\\n",
       "0                             113   \n",
       "1                             113   \n",
       "2                             113   \n",
       "3                             113   \n",
       "4                             113   \n",
       "\n",
       "                            transaction_descriptioni  \n",
       "0      tas tas hccmbg miniguid ultrason devic trevit  \n",
       "1   access environment inform applic individu vis...  \n",
       "2   access environment inform applic individu vis...  \n",
       "3   access environment inform applic individu vis...  \n",
       "4   access environment inform applic individu vis...  "
      ]
     },
     "execution_count": 38,
     "metadata": {},
     "output_type": "execute_result"
    }
   ],
   "source": [
    "df['transaction_description'] = pd.Series(tr_descriptions)\n",
    "df.head()"
   ]
  },
  {
   "cell_type": "markdown",
   "metadata": {},
   "source": [
    "## divide by county"
   ]
  },
  {
   "cell_type": "code",
   "execution_count": 139,
   "metadata": {},
   "outputs": [],
   "source": [
    "list_counties = list(df.groupby('recipient_location_county_code'))"
   ]
  },
  {
   "cell_type": "markdown",
   "metadata": {},
   "source": [
    "# weighthing schemes"
   ]
  },
  {
   "cell_type": "markdown",
   "metadata": {},
   "source": [
    "## tfidf"
   ]
  },
  {
   "cell_type": "code",
   "execution_count": 288,
   "metadata": {},
   "outputs": [],
   "source": [
    "# reset index?\n",
    "\n",
    "def tfidf_words_weights_sorted(tuple_):\n",
    "    df = tuple_[1]\n",
    "    df = df[pd.notnull(df['transaction_description'])]\n",
    "    tr_descriptions = df['transaction_description']\n",
    "    \n",
    "    #weighting scheme\n",
    "    \n",
    "    try:\n",
    "        tfidf_transformer = TfidfVectorizer()\n",
    "        description_tfidf = tfidf_transformer.fit_transform(tr_descriptions)\n",
    "    \n",
    "    except ValueError:\n",
    "        print('The county we need to check :' + str(tuple_[0]))\n",
    "        return None\n",
    "    \n",
    "    # we need to extract the weights of the words\n",
    "    index_value={i[1]:i[0] for i in tfidf_transformer.vocabulary_.items()}\n",
    "\n",
    "    words_weights = []\n",
    "    for row in description_tfidf:\n",
    "        words_weights.append({index_value[column]:value for (column,value) in zip(row.indices,row.data)})\n",
    "    \n",
    "    # change dictionary to dataframe (easier to manipulate)\n",
    "    temp = []\n",
    "    for description in words_weights:\n",
    "        w = pd.Series(description).to_frame(tuple_[0])\n",
    "        temp.append(w)\n",
    "    \n",
    "    words_df = pd.concat(temp)\n",
    "    \n",
    "    #sum the weights of same words and sort them\n",
    "    words_df_aggregate_sorted = words_df.groupby(words_df.index).sum().sort_values(\n",
    "                                                                            by = [tuple_[0]],\n",
    "                                                                            ascending = False)\n",
    "    return words_df_aggregate_sorted  "
   ]
  },
  {
   "cell_type": "code",
   "execution_count": 289,
   "metadata": {},
   "outputs": [
    {
     "name": "stdout",
     "output_type": "stream",
     "text": [
      "The county we need to check :51\n"
     ]
    }
   ],
   "source": [
    "x = list(map(tfidf_words_weights_sorted, list_counties))"
   ]
  },
  {
   "cell_type": "markdown",
   "metadata": {},
   "source": [
    "## amount"
   ]
  },
  {
   "cell_type": "code",
   "execution_count": 283,
   "metadata": {},
   "outputs": [],
   "source": [
    "def list_to_df(list_):\n",
    "    try:\n",
    "        \n",
    "        length = len(str(list_[1]).split())\n",
    "        dollars = list_[0]/length\n",
    "        df = pd.DataFrame({ 'word':str(list_[1]).split(),\n",
    "                            'money': np.repeat(dollars, length)})\n",
    "    except ZeroDivisionError:\n",
    "        print('h')\n",
    "        return None\n",
    "    \n",
    "    return df\n",
    "\n",
    "def amount_words_weights_sorted(tuple_):\n",
    "    df = tuple_[1]\n",
    "    df = df[['total_obligation', 'transaction_description']]\n",
    "    df = df[pd.notnull(df[['transaction_description', 'total_obligation']])]\n",
    "\n",
    "    # create new df with a list with both values\n",
    "    list_comb = df.values.tolist()\n",
    "    temp = list(map(list_to_df, list_comb))\n",
    "    words_money = pd.concat(temp)\n",
    "    \n",
    "    # we need to aggregate same words and sum them\n",
    "    words_money_agregate_sorted = words_money.groupby('word').sum().sort_values(by = 'money', ascending = False)\n",
    "    words_money_agregate_sorted.columns = [tuple_[0]]\n",
    "    \n",
    "    return words_money_agregate_sorted\n"
   ]
  },
  {
   "cell_type": "code",
   "execution_count": null,
   "metadata": {},
   "outputs": [],
   "source": [
    "y = list(map(amount_words_weights_sorted, list_counties))`m"
   ]
  },
  {
   "cell_type": "code",
   "execution_count": 296,
   "metadata": {},
   "outputs": [
    {
     "data": {
      "text/html": [
       "<div>\n",
       "<style scoped>\n",
       "    .dataframe tbody tr th:only-of-type {\n",
       "        vertical-align: middle;\n",
       "    }\n",
       "\n",
       "    .dataframe tbody tr th {\n",
       "        vertical-align: top;\n",
       "    }\n",
       "\n",
       "    .dataframe thead th {\n",
       "        text-align: right;\n",
       "    }\n",
       "</style>\n",
       "<table border=\"1\" class=\"dataframe\">\n",
       "  <thead>\n",
       "    <tr style=\"text-align: right;\">\n",
       "      <th></th>\n",
       "      <th>3</th>\n",
       "    </tr>\n",
       "  </thead>\n",
       "  <tbody>\n",
       "    <tr>\n",
       "      <th>tas</th>\n",
       "      <td>0.666667</td>\n",
       "    </tr>\n",
       "    <tr>\n",
       "      <th>clear</th>\n",
       "      <td>0.500000</td>\n",
       "    </tr>\n",
       "    <tr>\n",
       "      <th>communic</th>\n",
       "      <td>0.500000</td>\n",
       "    </tr>\n",
       "    <tr>\n",
       "      <th>cultur</th>\n",
       "      <td>0.500000</td>\n",
       "    </tr>\n",
       "    <tr>\n",
       "      <th>hcpbcb</th>\n",
       "      <td>0.500000</td>\n",
       "    </tr>\n",
       "    <tr>\n",
       "      <th>addit</th>\n",
       "      <td>0.333333</td>\n",
       "    </tr>\n",
       "    <tr>\n",
       "      <th>ciosp</th>\n",
       "      <td>0.333333</td>\n",
       "    </tr>\n",
       "    <tr>\n",
       "      <th>contract</th>\n",
       "      <td>0.333333</td>\n",
       "    </tr>\n",
       "    <tr>\n",
       "      <th>er</th>\n",
       "      <td>0.333333</td>\n",
       "    </tr>\n",
       "    <tr>\n",
       "      <th>fund</th>\n",
       "      <td>0.333333</td>\n",
       "    </tr>\n",
       "  </tbody>\n",
       "</table>\n",
       "</div>"
      ],
      "text/plain": [
       "                 3\n",
       "tas       0.666667\n",
       "clear     0.500000\n",
       "communic  0.500000\n",
       "cultur    0.500000\n",
       "hcpbcb    0.500000\n",
       "addit     0.333333\n",
       "ciosp     0.333333\n",
       "contract  0.333333\n",
       "er        0.333333\n",
       "fund      0.333333"
      ]
     },
     "execution_count": 296,
     "metadata": {},
     "output_type": "execute_result"
    }
   ],
   "source": [
    "x[1]"
   ]
  },
  {
   "cell_type": "code",
   "execution_count": 297,
   "metadata": {},
   "outputs": [
    {
     "data": {
      "text/html": [
       "<div>\n",
       "<style scoped>\n",
       "    .dataframe tbody tr th:only-of-type {\n",
       "        vertical-align: middle;\n",
       "    }\n",
       "\n",
       "    .dataframe tbody tr th {\n",
       "        vertical-align: top;\n",
       "    }\n",
       "\n",
       "    .dataframe thead th {\n",
       "        text-align: right;\n",
       "    }\n",
       "</style>\n",
       "<table border=\"1\" class=\"dataframe\">\n",
       "  <thead>\n",
       "    <tr style=\"text-align: right;\">\n",
       "      <th></th>\n",
       "      <th>3</th>\n",
       "    </tr>\n",
       "    <tr>\n",
       "      <th>word</th>\n",
       "      <th></th>\n",
       "    </tr>\n",
       "  </thead>\n",
       "  <tbody>\n",
       "    <tr>\n",
       "      <th>clear</th>\n",
       "      <td>625000.0</td>\n",
       "    </tr>\n",
       "    <tr>\n",
       "      <th>communic</th>\n",
       "      <td>625000.0</td>\n",
       "    </tr>\n",
       "    <tr>\n",
       "      <th>cultur</th>\n",
       "      <td>625000.0</td>\n",
       "    </tr>\n",
       "    <tr>\n",
       "      <th>hcpbcb</th>\n",
       "      <td>625000.0</td>\n",
       "    </tr>\n",
       "    <tr>\n",
       "      <th>tas</th>\n",
       "      <td>625000.0</td>\n",
       "    </tr>\n",
       "    <tr>\n",
       "      <th>addit</th>\n",
       "      <td>312500.0</td>\n",
       "    </tr>\n",
       "    <tr>\n",
       "      <th>c</th>\n",
       "      <td>312500.0</td>\n",
       "    </tr>\n",
       "    <tr>\n",
       "      <th>ciosp</th>\n",
       "      <td>312500.0</td>\n",
       "    </tr>\n",
       "    <tr>\n",
       "      <th>contract</th>\n",
       "      <td>312500.0</td>\n",
       "    </tr>\n",
       "    <tr>\n",
       "      <th>er</th>\n",
       "      <td>312500.0</td>\n",
       "    </tr>\n",
       "    <tr>\n",
       "      <th>fund</th>\n",
       "      <td>312500.0</td>\n",
       "    </tr>\n",
       "    <tr>\n",
       "      <th>nan</th>\n",
       "      <td>10000.0</td>\n",
       "    </tr>\n",
       "  </tbody>\n",
       "</table>\n",
       "</div>"
      ],
      "text/plain": [
       "                 3\n",
       "word              \n",
       "clear     625000.0\n",
       "communic  625000.0\n",
       "cultur    625000.0\n",
       "hcpbcb    625000.0\n",
       "tas       625000.0\n",
       "addit     312500.0\n",
       "c         312500.0\n",
       "ciosp     312500.0\n",
       "contract  312500.0\n",
       "er        312500.0\n",
       "fund      312500.0\n",
       "nan        10000.0"
      ]
     },
     "execution_count": 297,
     "metadata": {},
     "output_type": "execute_result"
    }
   ],
   "source": [
    "y[1]"
   ]
  }
 ],
 "metadata": {
  "kernelspec": {
   "display_name": "Python 3",
   "language": "python",
   "name": "python3"
  },
  "language_info": {
   "codemirror_mode": {
    "name": "ipython",
    "version": 3
   },
   "file_extension": ".py",
   "mimetype": "text/x-python",
   "name": "python",
   "nbconvert_exporter": "python",
   "pygments_lexer": "ipython3",
   "version": "3.7.2"
  }
 },
 "nbformat": 4,
 "nbformat_minor": 2
}
